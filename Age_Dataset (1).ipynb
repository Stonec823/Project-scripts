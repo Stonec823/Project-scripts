{
 "cells": [
  {
   "cell_type": "code",
   "execution_count": 2,
   "id": "430282de",
   "metadata": {},
   "outputs": [],
   "source": [
    "## importing libraries ##\n",
    "\n",
    "import matplotlib.pyplot as plt\n",
    "import numpy as np\n",
    "import pandas as pd\n",
    "import seaborn as sns\n",
    "from os import path\n",
    "\n",
    "DATA_DIR = '/Users/cstone/Downloads'\n",
    "\n",
    "df = pd.read_csv(path.join(DATA_DIR, 'AgeDataset-V1.csv'))"
   ]
  },
  {
   "cell_type": "code",
   "execution_count": 3,
   "id": "fa09135b",
   "metadata": {},
   "outputs": [
    {
     "name": "stdout",
     "output_type": "stream",
     "text": [
      "Index(['Id', 'Name', 'Short description', 'Gender', 'Country', 'Occupation',\n",
      "       'Birth year', 'Death year', 'Manner of death', 'Age of death'],\n",
      "      dtype='object')\n"
     ]
    }
   ],
   "source": [
    "print(df.columns)"
   ]
  },
  {
   "cell_type": "code",
   "execution_count": 4,
   "id": "1eb09bbb",
   "metadata": {},
   "outputs": [
    {
     "name": "stdout",
     "output_type": "stream",
     "text": [
      "                Id                           Name  \\\n",
      "1043488  Q28868462  Johann Sigismund von Glaubitz   \n",
      "244122    Q2263400                    Maarten Bon   \n",
      "125179    Q1034438                   Ernő Hauszer   \n",
      "1015118  Q25999367                Patrizio Donati   \n",
      "310994    Q3179040                    Jimmy Dykes   \n",
      "\n",
      "                                Short description Gender  \\\n",
      "1043488                  preußischer Generalmajor   Male   \n",
      "244122                 Dutch composer and pianist   Male   \n",
      "125179                                        NaN   Male   \n",
      "1015118                                       NaN   Male   \n",
      "310994   American baseball player, coach, manager   Male   \n",
      "\n",
      "                            Country Occupation  Birth year  Death year  \\\n",
      "1043488                         NaN        NaN        1764      1838.0   \n",
      "244122   Kingdom of the Netherlands     Artist        1933      2003.0   \n",
      "125179                          NaN        NaN        1805      1868.0   \n",
      "1015118                         NaN        NaN        1588      1666.0   \n",
      "310994     United States of America    Athlete        1896      1976.0   \n",
      "\n",
      "        Manner of death  Age of death  \n",
      "1043488             NaN          74.0  \n",
      "244122              NaN          70.0  \n",
      "125179              NaN          63.0  \n",
      "1015118             NaN          78.0  \n",
      "310994              NaN          80.0  \n"
     ]
    }
   ],
   "source": [
    "print(df.sample(5))"
   ]
  },
  {
   "cell_type": "code",
   "execution_count": 6,
   "id": "d7d3fcd2",
   "metadata": {},
   "outputs": [
    {
     "name": "stdout",
     "output_type": "stream",
     "text": [
      "Id - 0%\n",
      "Name - 0%\n",
      "Short description - 6%\n",
      "Gender - 11%\n",
      "Country - 27%\n",
      "Occupation - 17%\n",
      "Birth year - 0%\n",
      "Death year - 0%\n",
      "Manner of death - 96%\n",
      "Age of death - 0%\n"
     ]
    }
   ],
   "source": [
    "\n",
    "for col in df.columns:\n",
    "    pct_missing = np.mean(df[col].isnull())\n",
    "    print('{} - {}%'.format(col, round(pct_missing*100)))"
   ]
  },
  {
   "cell_type": "code",
   "execution_count": 35,
   "id": "91694be5",
   "metadata": {},
   "outputs": [
    {
     "name": "stdout",
     "output_type": "stream",
     "text": [
      "Gender\n",
      "Eunuch                                            51.333333\n",
      "Eunuch; Male                                      63.611111\n",
      "Female                                            71.307846\n",
      "Female; Female                                    75.000000\n",
      "Female; Male                                      71.428571\n",
      "Intersex                                          59.000000\n",
      "Intersex; Female                                  64.000000\n",
      "Intersex; Male                                    55.500000\n",
      "Intersex; Transgender Male                        79.000000\n",
      "Male                                              69.185657\n",
      "Non-Binary                                        61.000000\n",
      "Non-Binary; Intersex                              22.000000\n",
      "Transgender Female                                49.810127\n",
      "Transgender Female; Female                        65.000000\n",
      "Transgender Female; Intersex                      61.000000\n",
      "Transgender Female; Male                          37.000000\n",
      "Transgender Male                                  57.111111\n",
      "Transgender Male; Female                          62.000000\n",
      "Transgender Male; Male                            67.000000\n",
      "Transgender Person; Intersex; Transgender Male    71.000000\n",
      "Name: Age of death, dtype: float64\n"
     ]
    }
   ],
   "source": [
    "df1 = df.groupby('Gender')['Age of death'].mean()\n",
    "print(df1)"
   ]
  },
  {
   "cell_type": "code",
   "execution_count": 47,
   "id": "aa9c50be",
   "metadata": {},
   "outputs": [
    {
     "data": {
      "text/plain": [
       "<function matplotlib.pyplot.show(close=None, block=None)>"
      ]
     },
     "execution_count": 47,
     "metadata": {},
     "output_type": "execute_result"
    },
    {
     "data": {
      "image/png": "[encoded data removed]",
      "text/plain": [
       "<Figure size 432x288 with 1 Axes>"
      ]
     },
     "metadata": {
      "needs_background": "light"
     },
     "output_type": "display_data"
    }
   ],
   "source": [
    " ## females seem to live longer than males, let's see their age distribution ##\n",
    "\n",
    "df.loc[df['Gender'] == 'Female'].hist(column=['Age of death'], bins = 20)\n",
    "plt.xlabel('Age of Death')\n",
    "plt.ylabel('# of Females')\n",
    "plt.show"
   ]
  },
  {
   "cell_type": "code",
   "execution_count": 74,
   "id": "537d30e1",
   "metadata": {},
   "outputs": [],
   "source": [
    "df2 = (df.groupby('Death year')['Age of death'].mean().reset_index())"
   ]
  },
  {
   "cell_type": "code",
   "execution_count": 75,
   "id": "64b71258",
   "metadata": {},
   "outputs": [],
   "source": [
    "## Look at average age od death for the last 250 years \n",
    "\n",
    "df250 = (df2.tail(250))"
   ]
  },
  {
   "cell_type": "code",
   "execution_count": 69,
   "id": "fe727534",
   "metadata": {},
   "outputs": [
    {
     "name": "stdout",
     "output_type": "stream",
     "text": [
      "Death year\n",
      "1772.0    61.210169\n",
      "1773.0    61.806159\n",
      "1774.0    61.861404\n",
      "1775.0    63.267692\n",
      "1776.0    62.331190\n",
      "            ...    \n",
      "2017.0    79.089162\n",
      "2018.0    79.060775\n",
      "2019.0    79.450289\n",
      "2020.0    80.231658\n",
      "2021.0    79.904859\n",
      "Name: Age of death, Length: 250, dtype: float64\n"
     ]
    }
   ],
   "source": [
    "print(df250)"
   ]
  },
  {
   "cell_type": "code",
   "execution_count": 76,
   "id": "71861f57",
   "metadata": {},
   "outputs": [
    {
     "data": {
      "text/plain": [
       "pandas.core.frame.DataFrame"
      ]
     },
     "execution_count": 76,
     "metadata": {},
     "output_type": "execute_result"
    }
   ],
   "source": [
    "type(df250)"
   ]
  },
  {
   "cell_type": "code",
   "execution_count": 81,
   "id": "b86b4384",
   "metadata": {},
   "outputs": [
    {
     "data": {
      "image/png": "[encoded data removed]",
      "text/plain": [
       "<Figure size 432x288 with 1 Axes>"
      ]
     },
     "metadata": {
      "needs_background": "light"
     },
     "output_type": "display_data"
    }
   ],
   "source": [
    "plt.plot('Death year', 'Age of death', data=df250)\n",
    "plt.xlabel('Year')\n",
    "plt.ylabel('Age of Death')\n",
    "plt.title('Average Lifespan')\n",
    "plt.show()"
   ]
  },
  {
   "cell_type": "code",
   "execution_count": 5,
   "id": "8e40c7df",
   "metadata": {},
   "outputs": [
    {
     "name": "stdout",
     "output_type": "stream",
     "text": [
      "Occupation\n",
      "Artist                281512\n",
      "Politician            195390\n",
      "Athlete               110943\n",
      "Researcher             90709\n",
      "Military personnel     52911\n",
      "Religious figure       37086\n",
      "Businessperson         19529\n",
      "Architect              17865\n",
      "Journalist             16002\n",
      "Teacher                15693\n",
      "Name: Occupation, dtype: int64\n"
     ]
    }
   ],
   "source": [
    "## 10 most common occupations\n",
    "\n",
    "df3 = df.groupby('Occupation')['Occupation'].count().sort_values(ascending=False).head(10)\n",
    "print(df3)"
   ]
  },
  {
   "cell_type": "code",
   "execution_count": 20,
   "id": "9e4c3bc0",
   "metadata": {},
   "outputs": [
    {
     "name": "stdout",
     "output_type": "stream",
     "text": [
      "Death year\n",
      "1322.0                                Politician\n",
      "1372.0    [Aristocrat, Artist, Religious figure]\n",
      "1422.0                                Politician\n",
      "1472.0                      [Aristocrat, Artist]\n",
      "1522.0                                    Artist\n",
      "1572.0                                    Artist\n",
      "1622.0                                    Artist\n",
      "1672.0                                    Artist\n",
      "1722.0                                Politician\n",
      "1772.0                                    Artist\n",
      "1822.0                                Politician\n",
      "1872.0                                Politician\n",
      "1922.0                                    Artist\n",
      "1972.0                                    Artist\n",
      "Name: Occupation, dtype: object\n"
     ]
    }
   ],
   "source": [
    "## Most common occupation by death year, incremented by 50 years\n",
    "\n",
    "df4= df.groupby(['Death year'])['Occupation'].agg(pd.Series.mode).tail(700)\n",
    "print(df4.iloc[::50])"
   ]
  },
  {
   "cell_type": "code",
   "execution_count": null,
   "id": "8106ddb2",
   "metadata": {},
   "outputs": [],
   "source": []
  }
 ],
 "metadata": {
  "kernelspec": {
   "display_name": "Python 3 (ipykernel)",
   "language": "python",
   "name": "python3"
  },
  "language_info": {
   "codemirror_mode": {
    "name": "ipython",
    "version": 3
   },
   "file_extension": ".py",
   "mimetype": "text/x-python",
   "name": "python",
   "nbconvert_exporter": "python",
   "pygments_lexer": "ipython3",
   "version": "3.9.7"
  }
 },
 "nbformat": 4,
 "nbformat_minor": 5
}
